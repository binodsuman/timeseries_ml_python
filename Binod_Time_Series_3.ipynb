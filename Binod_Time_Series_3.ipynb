{
 "cells": [
  {
   "cell_type": "code",
   "execution_count": 1,
   "metadata": {},
   "outputs": [],
   "source": [
    "import numpy as np\n",
    "import pandas as pd\n",
    "import matplotlib.pylab as plt\n",
    "from matplotlib.pylab import rcParams\n",
    "rcParams['figure.figsize'] = 10, 6"
   ]
  },
  {
   "cell_type": "code",
   "execution_count": 2,
   "metadata": {},
   "outputs": [
    {
     "data": {
      "text/html": [
       "<div>\n",
       "<style scoped>\n",
       "    .dataframe tbody tr th:only-of-type {\n",
       "        vertical-align: middle;\n",
       "    }\n",
       "\n",
       "    .dataframe tbody tr th {\n",
       "        vertical-align: top;\n",
       "    }\n",
       "\n",
       "    .dataframe thead th {\n",
       "        text-align: right;\n",
       "    }\n",
       "</style>\n",
       "<table border=\"1\" class=\"dataframe\">\n",
       "  <thead>\n",
       "    <tr style=\"text-align: right;\">\n",
       "      <th></th>\n",
       "      <th>Month</th>\n",
       "      <th>#Passengers</th>\n",
       "    </tr>\n",
       "  </thead>\n",
       "  <tbody>\n",
       "    <tr>\n",
       "      <th>0</th>\n",
       "      <td>1949-01</td>\n",
       "      <td>112</td>\n",
       "    </tr>\n",
       "    <tr>\n",
       "      <th>1</th>\n",
       "      <td>1949-02</td>\n",
       "      <td>118</td>\n",
       "    </tr>\n",
       "    <tr>\n",
       "      <th>2</th>\n",
       "      <td>1949-03</td>\n",
       "      <td>132</td>\n",
       "    </tr>\n",
       "    <tr>\n",
       "      <th>3</th>\n",
       "      <td>1949-04</td>\n",
       "      <td>129</td>\n",
       "    </tr>\n",
       "    <tr>\n",
       "      <th>4</th>\n",
       "      <td>1949-05</td>\n",
       "      <td>121</td>\n",
       "    </tr>\n",
       "  </tbody>\n",
       "</table>\n",
       "</div>"
      ],
      "text/plain": [
       "     Month  #Passengers\n",
       "0  1949-01          112\n",
       "1  1949-02          118\n",
       "2  1949-03          132\n",
       "3  1949-04          129\n",
       "4  1949-05          121"
      ]
     },
     "execution_count": 2,
     "metadata": {},
     "output_type": "execute_result"
    }
   ],
   "source": [
    "df = pd.read_csv(\"AirPassengers.csv\")\n",
    "df.head()"
   ]
  },
  {
   "cell_type": "code",
   "execution_count": 3,
   "metadata": {},
   "outputs": [
    {
     "data": {
      "text/plain": [
       "(144, 2)"
      ]
     },
     "execution_count": 3,
     "metadata": {},
     "output_type": "execute_result"
    }
   ],
   "source": [
    "df.shape"
   ]
  },
  {
   "cell_type": "code",
   "execution_count": 6,
   "metadata": {},
   "outputs": [
    {
     "data": {
      "text/plain": [
       "str"
      ]
     },
     "execution_count": 6,
     "metadata": {},
     "output_type": "execute_result"
    }
   ],
   "source": [
    "type(df.Month[0])"
   ]
  },
  {
   "cell_type": "code",
   "execution_count": 7,
   "metadata": {
    "collapsed": true
   },
   "outputs": [],
   "source": [
    "df = pd.read_csv(\"AirPassengers.csv\")\n",
    "df['Month'] = pd.to_datetime(df['Month'], infer_datetime_format=True)\n",
    "indexdataset = df.set_index(['Month'])"
   ]
  },
  {
   "cell_type": "code",
   "execution_count": 8,
   "metadata": {},
   "outputs": [
    {
     "data": {
      "text/html": [
       "<div>\n",
       "<style>\n",
       "    .dataframe thead tr:only-child th {\n",
       "        text-align: right;\n",
       "    }\n",
       "\n",
       "    .dataframe thead th {\n",
       "        text-align: left;\n",
       "    }\n",
       "\n",
       "    .dataframe tbody tr th {\n",
       "        vertical-align: top;\n",
       "    }\n",
       "</style>\n",
       "<table border=\"1\" class=\"dataframe\">\n",
       "  <thead>\n",
       "    <tr style=\"text-align: right;\">\n",
       "      <th></th>\n",
       "      <th>#Passengers</th>\n",
       "    </tr>\n",
       "    <tr>\n",
       "      <th>Month</th>\n",
       "      <th></th>\n",
       "    </tr>\n",
       "  </thead>\n",
       "  <tbody>\n",
       "    <tr>\n",
       "      <th>1949-01-01</th>\n",
       "      <td>112</td>\n",
       "    </tr>\n",
       "    <tr>\n",
       "      <th>1949-02-01</th>\n",
       "      <td>118</td>\n",
       "    </tr>\n",
       "    <tr>\n",
       "      <th>1949-03-01</th>\n",
       "      <td>132</td>\n",
       "    </tr>\n",
       "    <tr>\n",
       "      <th>1949-04-01</th>\n",
       "      <td>129</td>\n",
       "    </tr>\n",
       "    <tr>\n",
       "      <th>1949-05-01</th>\n",
       "      <td>121</td>\n",
       "    </tr>\n",
       "  </tbody>\n",
       "</table>\n",
       "</div>"
      ],
      "text/plain": [
       "            #Passengers\n",
       "Month                  \n",
       "1949-01-01          112\n",
       "1949-02-01          118\n",
       "1949-03-01          132\n",
       "1949-04-01          129\n",
       "1949-05-01          121"
      ]
     },
     "execution_count": 8,
     "metadata": {},
     "output_type": "execute_result"
    }
   ],
   "source": [
    "indexdataset.head()"
   ]
  },
  {
   "cell_type": "code",
   "execution_count": 11,
   "metadata": {
    "scrolled": true
   },
   "outputs": [
    {
     "data": {
      "text/plain": [
       "DatetimeIndex(['1949-01-01', '1949-02-01', '1949-03-01', '1949-04-01',\n",
       "               '1949-05-01', '1949-06-01', '1949-07-01', '1949-08-01',\n",
       "               '1949-09-01', '1949-10-01',\n",
       "               ...\n",
       "               '1960-03-01', '1960-04-01', '1960-05-01', '1960-06-01',\n",
       "               '1960-07-01', '1960-08-01', '1960-09-01', '1960-10-01',\n",
       "               '1960-11-01', '1960-12-01'],\n",
       "              dtype='datetime64[ns]', name='Month', length=144, freq=None)"
      ]
     },
     "execution_count": 11,
     "metadata": {},
     "output_type": "execute_result"
    }
   ],
   "source": [
    "indexdataset.index"
   ]
  },
  {
   "cell_type": "code",
   "execution_count": 12,
   "metadata": {},
   "outputs": [
    {
     "data": {
      "text/html": [
       "<div>\n",
       "<style>\n",
       "    .dataframe thead tr:only-child th {\n",
       "        text-align: right;\n",
       "    }\n",
       "\n",
       "    .dataframe thead th {\n",
       "        text-align: left;\n",
       "    }\n",
       "\n",
       "    .dataframe tbody tr th {\n",
       "        vertical-align: top;\n",
       "    }\n",
       "</style>\n",
       "<table border=\"1\" class=\"dataframe\">\n",
       "  <thead>\n",
       "    <tr style=\"text-align: right;\">\n",
       "      <th></th>\n",
       "      <th>#Passengers</th>\n",
       "    </tr>\n",
       "    <tr>\n",
       "      <th>Month</th>\n",
       "      <th></th>\n",
       "    </tr>\n",
       "  </thead>\n",
       "  <tbody>\n",
       "    <tr>\n",
       "      <th>1960-08-01</th>\n",
       "      <td>606</td>\n",
       "    </tr>\n",
       "    <tr>\n",
       "      <th>1960-09-01</th>\n",
       "      <td>508</td>\n",
       "    </tr>\n",
       "    <tr>\n",
       "      <th>1960-10-01</th>\n",
       "      <td>461</td>\n",
       "    </tr>\n",
       "    <tr>\n",
       "      <th>1960-11-01</th>\n",
       "      <td>390</td>\n",
       "    </tr>\n",
       "    <tr>\n",
       "      <th>1960-12-01</th>\n",
       "      <td>432</td>\n",
       "    </tr>\n",
       "  </tbody>\n",
       "</table>\n",
       "</div>"
      ],
      "text/plain": [
       "            #Passengers\n",
       "Month                  \n",
       "1960-08-01          606\n",
       "1960-09-01          508\n",
       "1960-10-01          461\n",
       "1960-11-01          390\n",
       "1960-12-01          432"
      ]
     },
     "execution_count": 12,
     "metadata": {},
     "output_type": "execute_result"
    }
   ],
   "source": [
    "indexdataset.tail()"
   ]
  },
  {
   "cell_type": "code",
   "execution_count": 14,
   "metadata": {},
   "outputs": [
    {
     "data": {
      "text/plain": [
       "[<matplotlib.lines.Line2D at 0x162ba80c208>]"
      ]
     },
     "execution_count": 14,
     "metadata": {},
     "output_type": "execute_result"
    },
    {
     "data": {
      "image/png": "[encoded data removed]",
      "text/plain": [
       "<Figure size 432x288 with 1 Axes>"
      ]
     },
     "metadata": {},
     "output_type": "display_data"
    }
   ],
   "source": [
    "plt.xlabel(\"Date\")\n",
    "plt.ylabel(\"Number of Air Pssengers\")\n",
    "%matplotlib inline\n",
    "plt.plot(indexdataset)"
   ]
  },
  {
   "cell_type": "code",
   "execution_count": 23,
   "metadata": {},
   "outputs": [
    {
     "data": {
      "text/plain": [
       "(            #Passengers\n",
       " Month                  \n",
       " 1949-01-01          NaN\n",
       " 1949-02-01          NaN\n",
       " 1949-03-01          NaN\n",
       " 1949-04-01          NaN\n",
       " 1949-05-01          NaN\n",
       " 1949-06-01          NaN\n",
       " 1949-07-01          NaN\n",
       " 1949-08-01          NaN\n",
       " 1949-09-01          NaN\n",
       " 1949-10-01          NaN\n",
       " 1949-11-01          NaN\n",
       " 1949-12-01   126.666667\n",
       " 1950-01-01   126.916667\n",
       " 1950-02-01   127.583333\n",
       " 1950-03-01   128.333333\n",
       " 1950-04-01   128.833333\n",
       " 1950-05-01   129.166667\n",
       " 1950-06-01   130.333333\n",
       " 1950-07-01   132.166667\n",
       " 1950-08-01   134.000000\n",
       " 1950-09-01   135.833333\n",
       " 1950-10-01   137.000000\n",
       " 1950-11-01   137.833333\n",
       " 1950-12-01   139.666667\n",
       " 1951-01-01   142.166667\n",
       " 1951-02-01   144.166667\n",
       " 1951-03-01   147.250000\n",
       " 1951-04-01   149.583333\n",
       " 1951-05-01   153.500000\n",
       " 1951-06-01   155.916667\n",
       " ...                 ...\n",
       " 1958-07-01   376.333333\n",
       " 1958-08-01   379.500000\n",
       " 1958-09-01   379.500000\n",
       " 1958-10-01   380.500000\n",
       " 1958-11-01   380.916667\n",
       " 1958-12-01   381.000000\n",
       " 1959-01-01   382.666667\n",
       " 1959-02-01   384.666667\n",
       " 1959-03-01   388.333333\n",
       " 1959-04-01   392.333333\n",
       " 1959-05-01   397.083333\n",
       " 1959-06-01   400.166667\n",
       " 1959-07-01   404.916667\n",
       " 1959-08-01   409.416667\n",
       " 1959-09-01   414.333333\n",
       " 1959-10-01   418.333333\n",
       " 1959-11-01   422.666667\n",
       " 1959-12-01   428.333333\n",
       " 1960-01-01   433.083333\n",
       " 1960-02-01   437.166667\n",
       " 1960-03-01   438.250000\n",
       " 1960-04-01   443.666667\n",
       " 1960-05-01   448.000000\n",
       " 1960-06-01   453.250000\n",
       " 1960-07-01   459.416667\n",
       " 1960-08-01   463.333333\n",
       " 1960-09-01   467.083333\n",
       " 1960-10-01   471.583333\n",
       " 1960-11-01   473.916667\n",
       " 1960-12-01   476.166667\n",
       " \n",
       " [144 rows x 1 columns],             #Passengers\n",
       " Month                  \n",
       " 1949-01-01          NaN\n",
       " 1949-02-01          NaN\n",
       " 1949-03-01          NaN\n",
       " 1949-04-01          NaN\n",
       " 1949-05-01          NaN\n",
       " 1949-06-01          NaN\n",
       " 1949-07-01          NaN\n",
       " 1949-08-01          NaN\n",
       " 1949-09-01          NaN\n",
       " 1949-10-01          NaN\n",
       " 1949-11-01          NaN\n",
       " 1949-12-01    13.720147\n",
       " 1950-01-01    13.453342\n",
       " 1950-02-01    13.166475\n",
       " 1950-03-01    13.686977\n",
       " 1950-04-01    13.822467\n",
       " 1950-05-01    13.663710\n",
       " 1950-06-01    14.760718\n",
       " 1950-07-01    18.135016\n",
       " 1950-08-01    20.797727\n",
       " 1950-09-01    21.928949\n",
       " 1950-10-01    21.315807\n",
       " 1950-11-01    20.067311\n",
       " 1950-12-01    19.070841\n",
       " 1951-01-01    17.439940\n",
       " 1951-02-01    16.781122\n",
       " 1951-03-01    19.349066\n",
       " 1951-04-01    19.425655\n",
       " 1951-05-01    18.744696\n",
       " 1951-06-01    19.942911\n",
       " ...                 ...\n",
       " 1958-07-01    59.590013\n",
       " 1958-08-01    65.557054\n",
       " 1958-09-01    65.557054\n",
       " 1958-10-01    65.106207\n",
       " 1958-11-01    64.593074\n",
       " 1958-12-01    64.530472\n",
       " 1959-01-01    63.627229\n",
       " 1959-02-01    61.759553\n",
       " 1959-03-01    61.597422\n",
       " 1959-04-01    60.284678\n",
       " 1959-05-01    60.008270\n",
       " 1959-06-01    63.009138\n",
       " 1959-07-01    71.987951\n",
       " 1959-08-01    80.049369\n",
       " 1959-09-01    81.485451\n",
       " 1959-10-01    79.680422\n",
       " 1959-11-01    74.498729\n",
       " 1959-12-01    69.830097\n",
       " 1960-01-01    66.624399\n",
       " 1960-02-01    61.866180\n",
       " 1960-03-01    61.382741\n",
       " 1960-04-01    60.171472\n",
       " 1960-05-01    60.184565\n",
       " 1960-06-01    65.021849\n",
       " 1960-07-01    77.194510\n",
       " 1960-08-01    83.630500\n",
       " 1960-09-01    84.617276\n",
       " 1960-10-01    82.541954\n",
       " 1960-11-01    79.502382\n",
       " 1960-12-01    77.737125\n",
       " \n",
       " [144 rows x 1 columns])"
      ]
     },
     "execution_count": 23,
     "metadata": {},
     "output_type": "execute_result"
    }
   ],
   "source": [
    "# Data is NOT stationary as mean are not constant\n",
    "# Two test help to checking stationary of data\n",
    "#Rolling Strategy\n",
    "rolmean = indexdataset.rolling(window=12).mean()\n",
    "rolstd = indexdataset.rolling(window=12).std()\n",
    "rolmean, rolstd"
   ]
  },
  {
   "cell_type": "code",
   "execution_count": 26,
   "metadata": {},
   "outputs": [
    {
     "data": {
      "image/png": "[encoded data removed]",
      "text/plain": [
       "<Figure size 432x288 with 1 Axes>"
      ]
     },
     "metadata": {},
     "output_type": "display_data"
    }
   ],
   "source": [
    "# Plot rolling statistics\n",
    "orig = plt.plot(indexdataset, color='blue', label='Original')\n",
    "mean = plt.plot(rolmean, color='red', label='Rolling Mean')\n",
    "std = plt.plot(rolstd, color='black', label='Rolling Std')\n"
   ]
  },
  {
   "cell_type": "code",
   "execution_count": 28,
   "metadata": {},
   "outputs": [
    {
     "data": {
      "image/png": "[encoded data removed]",
      "text/plain": [
       "<Figure size 432x288 with 1 Axes>"
      ]
     },
     "metadata": {},
     "output_type": "display_data"
    }
   ],
   "source": [
    "# Plot rolling statistics\n",
    "orig = plt.plot(indexdataset, color='blue', label='Original')\n",
    "mean = plt.plot(rolmean, color='red', label='Rolling Mean')\n",
    "std = plt.plot(rolstd, color='black', label='Rolling Std')\n",
    "plt.legend(loc='best')\n",
    "plt.title(\"Rolling Mean and Standard Deviation\")\n",
    "plt.show(block=False)"
   ]
  },
  {
   "cell_type": "code",
   "execution_count": 30,
   "metadata": {},
   "outputs": [
    {
     "name": "stdout",
     "output_type": "stream",
     "text": [
      "Result of Dickey-Fuller Test\n"
     ]
    },
    {
     "data": {
      "text/plain": [
       "(0.8153688792060433,\n",
       " 0.9918802434376409,\n",
       " 13,\n",
       " 130,\n",
       " {'1%': -3.4816817173418295,\n",
       "  '10%': -2.578770059171598,\n",
       "  '5%': -2.8840418343195267},\n",
       " 996.692930839019)"
      ]
     },
     "execution_count": 30,
     "metadata": {},
     "output_type": "execute_result"
    }
   ],
   "source": [
    "# Perform Dickey-Fuller test\n",
    "from statsmodels.tsa.stattools import adfuller\n",
    "\n",
    "print('Result of Dickey-Fuller Test')\n",
    "dftest = adfuller(indexdataset['#Passengers'], autolag='AIC') # AIC : Chi K Information\n",
    "dftest\n"
   ]
  },
  {
   "cell_type": "code",
   "execution_count": 33,
   "metadata": {},
   "outputs": [
    {
     "data": {
      "text/plain": [
       "(0.8153688792060433, 0.9918802434376409, 13, 130)"
      ]
     },
     "execution_count": 33,
     "metadata": {},
     "output_type": "execute_result"
    }
   ],
   "source": [
    "dftest[0:4]"
   ]
  },
  {
   "cell_type": "code",
   "execution_count": 34,
   "metadata": {},
   "outputs": [
    {
     "data": {
      "text/plain": [
       "{'1%': -3.4816817173418295,\n",
       " '10%': -2.578770059171598,\n",
       " '5%': -2.8840418343195267}"
      ]
     },
     "execution_count": 34,
     "metadata": {},
     "output_type": "execute_result"
    }
   ],
   "source": [
    "dftest[4]"
   ]
  },
  {
   "cell_type": "code",
   "execution_count": 36,
   "metadata": {},
   "outputs": [
    {
     "name": "stdout",
     "output_type": "stream",
     "text": [
      "Results of Dicky-Fuller Test\n",
      "Test Statistic                  0.815369\n",
      "p-value                         0.991880\n",
      "#Lags used                     13.000000\n",
      "Number of Observation Used    130.000000\n",
      "Critical Value (1%)            -3.481682\n",
      "Critical Value (5%)            -2.884042\n",
      "Critical Value (10%)           -2.578770\n",
      "dtype: float64\n"
     ]
    }
   ],
   "source": [
    "print('Results of Dicky-Fuller Test')\n",
    "dfoutput = pd.Series(dftest[0:4], index=['Test Statistic','p-value','#Lags used','Number of Observation Used'])\n",
    "for key,value in dftest[4].items():\n",
    "    dfoutput['Critical Value (%s)'%key] = value\n",
    "    \n",
    "print(dfoutput)"
   ]
  },
  {
   "cell_type": "code",
   "execution_count": 37,
   "metadata": {},
   "outputs": [
    {
     "data": {
      "text/plain": [
       "[<matplotlib.lines.Line2D at 0x162bdb7cb00>]"
      ]
     },
     "execution_count": 37,
     "metadata": {},
     "output_type": "execute_result"
    },
    {
     "data": {
      "image/png": "[encoded data removed]",
      "text/plain": [
       "<Figure size 432x288 with 1 Axes>"
      ]
     },
     "metadata": {},
     "output_type": "display_data"
    }
   ],
   "source": [
    "#Estimating Trends\n",
    "indexdataset_logscale = np.log(indexdataset)\n",
    "plt.plot(indexdataset_logscale)"
   ]
  },
  {
   "cell_type": "code",
   "execution_count": 41,
   "metadata": {},
   "outputs": [
    {
     "data": {
      "text/plain": [
       "[<matplotlib.lines.Line2D at 0x162ba4da128>]"
      ]
     },
     "execution_count": 41,
     "metadata": {},
     "output_type": "execute_result"
    },
    {
     "data": {
      "image/png": "[encoded data removed]",
      "text/plain": [
       "<Figure size 432x288 with 1 Axes>"
      ]
     },
     "metadata": {},
     "output_type": "display_data"
    }
   ],
   "source": [
    "movingAverage = indexdataset_logscale.rolling(window=12).mean()\n",
    "movingSTD = indexdataset_logscale.rolling(window=12).std()\n",
    "plt.plot(indexdataset_logscale)\n",
    "plt.plot(movingAverage, color='red')"
   ]
  },
  {
   "cell_type": "code",
   "execution_count": 42,
   "metadata": {},
   "outputs": [
    {
     "data": {
      "text/html": [
       "<div>\n",
       "<style>\n",
       "    .dataframe thead tr:only-child th {\n",
       "        text-align: right;\n",
       "    }\n",
       "\n",
       "    .dataframe thead th {\n",
       "        text-align: left;\n",
       "    }\n",
       "\n",
       "    .dataframe tbody tr th {\n",
       "        vertical-align: top;\n",
       "    }\n",
       "</style>\n",
       "<table border=\"1\" class=\"dataframe\">\n",
       "  <thead>\n",
       "    <tr style=\"text-align: right;\">\n",
       "      <th></th>\n",
       "      <th>#Passengers</th>\n",
       "    </tr>\n",
       "    <tr>\n",
       "      <th>Month</th>\n",
       "      <th></th>\n",
       "    </tr>\n",
       "  </thead>\n",
       "  <tbody>\n",
       "    <tr>\n",
       "      <th>1949-01-01</th>\n",
       "      <td>NaN</td>\n",
       "    </tr>\n",
       "    <tr>\n",
       "      <th>1949-02-01</th>\n",
       "      <td>NaN</td>\n",
       "    </tr>\n",
       "    <tr>\n",
       "      <th>1949-03-01</th>\n",
       "      <td>NaN</td>\n",
       "    </tr>\n",
       "    <tr>\n",
       "      <th>1949-04-01</th>\n",
       "      <td>NaN</td>\n",
       "    </tr>\n",
       "    <tr>\n",
       "      <th>1949-05-01</th>\n",
       "      <td>NaN</td>\n",
       "    </tr>\n",
       "    <tr>\n",
       "      <th>1949-06-01</th>\n",
       "      <td>NaN</td>\n",
       "    </tr>\n",
       "    <tr>\n",
       "      <th>1949-07-01</th>\n",
       "      <td>NaN</td>\n",
       "    </tr>\n",
       "    <tr>\n",
       "      <th>1949-08-01</th>\n",
       "      <td>NaN</td>\n",
       "    </tr>\n",
       "    <tr>\n",
       "      <th>1949-09-01</th>\n",
       "      <td>NaN</td>\n",
       "    </tr>\n",
       "    <tr>\n",
       "      <th>1949-10-01</th>\n",
       "      <td>NaN</td>\n",
       "    </tr>\n",
       "    <tr>\n",
       "      <th>1949-11-01</th>\n",
       "      <td>NaN</td>\n",
       "    </tr>\n",
       "    <tr>\n",
       "      <th>1949-12-01</th>\n",
       "      <td>-0.065494</td>\n",
       "    </tr>\n",
       "  </tbody>\n",
       "</table>\n",
       "</div>"
      ],
      "text/plain": [
       "            #Passengers\n",
       "Month                  \n",
       "1949-01-01          NaN\n",
       "1949-02-01          NaN\n",
       "1949-03-01          NaN\n",
       "1949-04-01          NaN\n",
       "1949-05-01          NaN\n",
       "1949-06-01          NaN\n",
       "1949-07-01          NaN\n",
       "1949-08-01          NaN\n",
       "1949-09-01          NaN\n",
       "1949-10-01          NaN\n",
       "1949-11-01          NaN\n",
       "1949-12-01    -0.065494"
      ]
     },
     "execution_count": 42,
     "metadata": {},
     "output_type": "execute_result"
    }
   ],
   "source": [
    "dataLogScaleMinusMovingAverage = indexdataset_logscale - movingAverage\n",
    "dataLogScaleMinusMovingAverage.head(12)"
   ]
  },
  {
   "cell_type": "code",
   "execution_count": 43,
   "metadata": {},
   "outputs": [
    {
     "data": {
      "text/html": [
       "<div>\n",
       "<style>\n",
       "    .dataframe thead tr:only-child th {\n",
       "        text-align: right;\n",
       "    }\n",
       "\n",
       "    .dataframe thead th {\n",
       "        text-align: left;\n",
       "    }\n",
       "\n",
       "    .dataframe tbody tr th {\n",
       "        vertical-align: top;\n",
       "    }\n",
       "</style>\n",
       "<table border=\"1\" class=\"dataframe\">\n",
       "  <thead>\n",
       "    <tr style=\"text-align: right;\">\n",
       "      <th></th>\n",
       "      <th>#Passengers</th>\n",
       "    </tr>\n",
       "    <tr>\n",
       "      <th>Month</th>\n",
       "      <th></th>\n",
       "    </tr>\n",
       "  </thead>\n",
       "  <tbody>\n",
       "    <tr>\n",
       "      <th>1949-12-01</th>\n",
       "      <td>-0.065494</td>\n",
       "    </tr>\n",
       "    <tr>\n",
       "      <th>1950-01-01</th>\n",
       "      <td>-0.093449</td>\n",
       "    </tr>\n",
       "    <tr>\n",
       "      <th>1950-02-01</th>\n",
       "      <td>-0.007566</td>\n",
       "    </tr>\n",
       "    <tr>\n",
       "      <th>1950-03-01</th>\n",
       "      <td>0.099416</td>\n",
       "    </tr>\n",
       "    <tr>\n",
       "      <th>1950-04-01</th>\n",
       "      <td>0.052142</td>\n",
       "    </tr>\n",
       "    <tr>\n",
       "      <th>1950-05-01</th>\n",
       "      <td>-0.027529</td>\n",
       "    </tr>\n",
       "    <tr>\n",
       "      <th>1950-06-01</th>\n",
       "      <td>0.139881</td>\n",
       "    </tr>\n",
       "    <tr>\n",
       "      <th>1950-07-01</th>\n",
       "      <td>0.260184</td>\n",
       "    </tr>\n",
       "    <tr>\n",
       "      <th>1950-08-01</th>\n",
       "      <td>0.248635</td>\n",
       "    </tr>\n",
       "    <tr>\n",
       "      <th>1950-09-01</th>\n",
       "      <td>0.162937</td>\n",
       "    </tr>\n",
       "  </tbody>\n",
       "</table>\n",
       "</div>"
      ],
      "text/plain": [
       "            #Passengers\n",
       "Month                  \n",
       "1949-12-01    -0.065494\n",
       "1950-01-01    -0.093449\n",
       "1950-02-01    -0.007566\n",
       "1950-03-01     0.099416\n",
       "1950-04-01     0.052142\n",
       "1950-05-01    -0.027529\n",
       "1950-06-01     0.139881\n",
       "1950-07-01     0.260184\n",
       "1950-08-01     0.248635\n",
       "1950-09-01     0.162937"
      ]
     },
     "execution_count": 43,
     "metadata": {},
     "output_type": "execute_result"
    }
   ],
   "source": [
    "#Rvmoving NaN Values\n",
    "dataLogScaleMinusMovingAverage.dropna(inplace=True)\n",
    "dataLogScaleMinusMovingAverage.head(10)"
   ]
  },
  {
   "cell_type": "code",
   "execution_count": null,
   "metadata": {
    "collapsed": true
   },
   "outputs": [],
   "source": [
    "#https://www.youtube.com/watch?v=e8Yw4alG16Q"
   ]
  }
 ],
 "metadata": {
  "kernelspec": {
   "display_name": "Python 3",
   "language": "python",
   "name": "python3"
  },
  "language_info": {
   "codemirror_mode": {
    "name": "ipython",
    "version": 3
   },
   "file_extension": ".py",
   "mimetype": "text/x-python",
   "name": "python",
   "nbconvert_exporter": "python",
   "pygments_lexer": "ipython3",
   "version": "3.7.3"
  }
 },
 "nbformat": 4,
 "nbformat_minor": 2
}
