{
 "cells": [
  {
   "cell_type": "code",
   "execution_count": 1,
   "metadata": {
    "collapsed": true
   },
   "outputs": [],
   "source": [
    "import pandas as pd"
   ]
  },
  {
   "cell_type": "code",
   "execution_count": 15,
   "metadata": {},
   "outputs": [
    {
     "data": {
      "text/html": [
       "<div>\n",
       "<style>\n",
       "    .dataframe thead tr:only-child th {\n",
       "        text-align: right;\n",
       "    }\n",
       "\n",
       "    .dataframe thead th {\n",
       "        text-align: left;\n",
       "    }\n",
       "\n",
       "    .dataframe tbody tr th {\n",
       "        vertical-align: top;\n",
       "    }\n",
       "</style>\n",
       "<table border=\"1\" class=\"dataframe\">\n",
       "  <thead>\n",
       "    <tr style=\"text-align: right;\">\n",
       "      <th></th>\n",
       "      <th>date</th>\n",
       "      <th>close</th>\n",
       "      <th>volume</th>\n",
       "      <th>open</th>\n",
       "      <th>high</th>\n",
       "      <th>low</th>\n",
       "    </tr>\n",
       "  </thead>\n",
       "  <tbody>\n",
       "    <tr>\n",
       "      <th>0</th>\n",
       "      <td>11:26</td>\n",
       "      <td>204.87</td>\n",
       "      <td>8,966,531</td>\n",
       "      <td>206.67</td>\n",
       "      <td>206.98</td>\n",
       "      <td>204.220</td>\n",
       "    </tr>\n",
       "    <tr>\n",
       "      <th>1</th>\n",
       "      <td>2019/08/30</td>\n",
       "      <td>208.74</td>\n",
       "      <td>21162560.0000</td>\n",
       "      <td>210.16</td>\n",
       "      <td>210.45</td>\n",
       "      <td>207.200</td>\n",
       "    </tr>\n",
       "    <tr>\n",
       "      <th>2</th>\n",
       "      <td>2019/08/29</td>\n",
       "      <td>209.01</td>\n",
       "      <td>21007650.0000</td>\n",
       "      <td>208.50</td>\n",
       "      <td>209.32</td>\n",
       "      <td>206.655</td>\n",
       "    </tr>\n",
       "    <tr>\n",
       "      <th>3</th>\n",
       "      <td>2019/08/28</td>\n",
       "      <td>205.53</td>\n",
       "      <td>15957630.0000</td>\n",
       "      <td>204.10</td>\n",
       "      <td>205.72</td>\n",
       "      <td>203.320</td>\n",
       "    </tr>\n",
       "    <tr>\n",
       "      <th>4</th>\n",
       "      <td>2019/08/27</td>\n",
       "      <td>204.16</td>\n",
       "      <td>25897340.0000</td>\n",
       "      <td>207.86</td>\n",
       "      <td>208.55</td>\n",
       "      <td>203.530</td>\n",
       "    </tr>\n",
       "  </tbody>\n",
       "</table>\n",
       "</div>"
      ],
      "text/plain": [
       "         date   close         volume    open    high      low\n",
       "0       11:26  204.87      8,966,531  206.67  206.98  204.220\n",
       "1  2019/08/30  208.74  21162560.0000  210.16  210.45  207.200\n",
       "2  2019/08/29  209.01  21007650.0000  208.50  209.32  206.655\n",
       "3  2019/08/28  205.53  15957630.0000  204.10  205.72  203.320\n",
       "4  2019/08/27  204.16  25897340.0000  207.86  208.55  203.530"
      ]
     },
     "execution_count": 15,
     "metadata": {},
     "output_type": "execute_result"
    }
   ],
   "source": [
    "df = pd.read_csv(\"HistoricalQuotes.csv\")\n",
    "df.head(5)"
   ]
  },
  {
   "cell_type": "code",
   "execution_count": 16,
   "metadata": {},
   "outputs": [
    {
     "data": {
      "text/plain": [
       "str"
      ]
     },
     "execution_count": 16,
     "metadata": {},
     "output_type": "execute_result"
    }
   ],
   "source": [
    "type(df.date[0]) #str"
   ]
  },
  {
   "cell_type": "code",
   "execution_count": 17,
   "metadata": {
    "collapsed": true
   },
   "outputs": [],
   "source": [
    "df = pd.read_csv(\"HistoricalQuotes.csv\", parse_dates=[\"date\"])"
   ]
  },
  {
   "cell_type": "code",
   "execution_count": 18,
   "metadata": {},
   "outputs": [
    {
     "data": {
      "text/plain": [
       "pandas._libs.tslib.Timestamp"
      ]
     },
     "execution_count": 18,
     "metadata": {},
     "output_type": "execute_result"
    }
   ],
   "source": [
    "type(df.date[0])"
   ]
  },
  {
   "cell_type": "code",
   "execution_count": 19,
   "metadata": {},
   "outputs": [
    {
     "data": {
      "text/html": [
       "<div>\n",
       "<style>\n",
       "    .dataframe thead tr:only-child th {\n",
       "        text-align: right;\n",
       "    }\n",
       "\n",
       "    .dataframe thead th {\n",
       "        text-align: left;\n",
       "    }\n",
       "\n",
       "    .dataframe tbody tr th {\n",
       "        vertical-align: top;\n",
       "    }\n",
       "</style>\n",
       "<table border=\"1\" class=\"dataframe\">\n",
       "  <thead>\n",
       "    <tr style=\"text-align: right;\">\n",
       "      <th></th>\n",
       "      <th>close</th>\n",
       "      <th>volume</th>\n",
       "      <th>open</th>\n",
       "      <th>high</th>\n",
       "      <th>low</th>\n",
       "    </tr>\n",
       "    <tr>\n",
       "      <th>date</th>\n",
       "      <th></th>\n",
       "      <th></th>\n",
       "      <th></th>\n",
       "      <th></th>\n",
       "      <th></th>\n",
       "    </tr>\n",
       "  </thead>\n",
       "  <tbody>\n",
       "    <tr>\n",
       "      <th>2019-09-03 11:26:00</th>\n",
       "      <td>204.87</td>\n",
       "      <td>8,966,531</td>\n",
       "      <td>206.67</td>\n",
       "      <td>206.98</td>\n",
       "      <td>204.220</td>\n",
       "    </tr>\n",
       "    <tr>\n",
       "      <th>2019-08-30 00:00:00</th>\n",
       "      <td>208.74</td>\n",
       "      <td>21162560.0000</td>\n",
       "      <td>210.16</td>\n",
       "      <td>210.45</td>\n",
       "      <td>207.200</td>\n",
       "    </tr>\n",
       "    <tr>\n",
       "      <th>2019-08-29 00:00:00</th>\n",
       "      <td>209.01</td>\n",
       "      <td>21007650.0000</td>\n",
       "      <td>208.50</td>\n",
       "      <td>209.32</td>\n",
       "      <td>206.655</td>\n",
       "    </tr>\n",
       "    <tr>\n",
       "      <th>2019-08-28 00:00:00</th>\n",
       "      <td>205.53</td>\n",
       "      <td>15957630.0000</td>\n",
       "      <td>204.10</td>\n",
       "      <td>205.72</td>\n",
       "      <td>203.320</td>\n",
       "    </tr>\n",
       "    <tr>\n",
       "      <th>2019-08-27 00:00:00</th>\n",
       "      <td>204.16</td>\n",
       "      <td>25897340.0000</td>\n",
       "      <td>207.86</td>\n",
       "      <td>208.55</td>\n",
       "      <td>203.530</td>\n",
       "    </tr>\n",
       "  </tbody>\n",
       "</table>\n",
       "</div>"
      ],
      "text/plain": [
       "                      close         volume    open    high      low\n",
       "date                                                               \n",
       "2019-09-03 11:26:00  204.87      8,966,531  206.67  206.98  204.220\n",
       "2019-08-30 00:00:00  208.74  21162560.0000  210.16  210.45  207.200\n",
       "2019-08-29 00:00:00  209.01  21007650.0000  208.50  209.32  206.655\n",
       "2019-08-28 00:00:00  205.53  15957630.0000  204.10  205.72  203.320\n",
       "2019-08-27 00:00:00  204.16  25897340.0000  207.86  208.55  203.530"
      ]
     },
     "execution_count": 19,
     "metadata": {},
     "output_type": "execute_result"
    }
   ],
   "source": [
    "df = pd.read_csv(\"HistoricalQuotes.csv\", parse_dates=[\"date\"], index_col=\"date\")\n",
    "df.head(5)"
   ]
  },
  {
   "cell_type": "code",
   "execution_count": 20,
   "metadata": {},
   "outputs": [
    {
     "data": {
      "text/plain": [
       "DatetimeIndex(['2019-09-03 11:26:00', '2019-08-30 00:00:00',\n",
       "               '2019-08-29 00:00:00', '2019-08-28 00:00:00',\n",
       "               '2019-08-27 00:00:00', '2019-08-26 00:00:00',\n",
       "               '2019-08-23 00:00:00', '2019-08-22 00:00:00',\n",
       "               '2019-08-21 00:00:00', '2019-08-20 00:00:00',\n",
       "               ...\n",
       "               '2018-09-13 00:00:00', '2018-09-12 00:00:00',\n",
       "               '2018-09-11 00:00:00', '2018-09-10 00:00:00',\n",
       "               '2018-09-07 00:00:00', '2018-09-06 00:00:00',\n",
       "               '2018-09-05 00:00:00', '2018-09-04 00:00:00',\n",
       "               '2018-08-31 00:00:00', '2018-08-30 00:00:00'],\n",
       "              dtype='datetime64[ns]', name='date', length=253, freq=None)"
      ]
     },
     "execution_count": 20,
     "metadata": {},
     "output_type": "execute_result"
    }
   ],
   "source": [
    "df.index"
   ]
  },
  {
   "cell_type": "code",
   "execution_count": 22,
   "metadata": {},
   "outputs": [
    {
     "data": {
      "text/plain": [
       "(253, 5)"
      ]
     },
     "execution_count": 22,
     "metadata": {},
     "output_type": "execute_result"
    }
   ],
   "source": [
    "df.shape"
   ]
  },
  {
   "cell_type": "code",
   "execution_count": 23,
   "metadata": {},
   "outputs": [
    {
     "data": {
      "text/html": [
       "<div>\n",
       "<style>\n",
       "    .dataframe thead tr:only-child th {\n",
       "        text-align: right;\n",
       "    }\n",
       "\n",
       "    .dataframe thead th {\n",
       "        text-align: left;\n",
       "    }\n",
       "\n",
       "    .dataframe tbody tr th {\n",
       "        vertical-align: top;\n",
       "    }\n",
       "</style>\n",
       "<table border=\"1\" class=\"dataframe\">\n",
       "  <thead>\n",
       "    <tr style=\"text-align: right;\">\n",
       "      <th></th>\n",
       "      <th>close</th>\n",
       "      <th>volume</th>\n",
       "      <th>open</th>\n",
       "      <th>high</th>\n",
       "      <th>low</th>\n",
       "    </tr>\n",
       "    <tr>\n",
       "      <th>date</th>\n",
       "      <th></th>\n",
       "      <th></th>\n",
       "      <th></th>\n",
       "      <th></th>\n",
       "      <th></th>\n",
       "    </tr>\n",
       "  </thead>\n",
       "  <tbody>\n",
       "    <tr>\n",
       "      <th>2019-08-23</th>\n",
       "      <td>202.64</td>\n",
       "      <td>46882840.0000</td>\n",
       "      <td>209.43</td>\n",
       "      <td>212.051</td>\n",
       "      <td>201.0</td>\n",
       "    </tr>\n",
       "  </tbody>\n",
       "</table>\n",
       "</div>"
      ],
      "text/plain": [
       "             close         volume    open     high    low\n",
       "date                                                     \n",
       "2019-08-23  202.64  46882840.0000  209.43  212.051  201.0"
      ]
     },
     "execution_count": 23,
     "metadata": {},
     "output_type": "execute_result"
    }
   ],
   "source": [
    "df[\"2019-08-23\"] # because date is index now"
   ]
  },
  {
   "cell_type": "code",
   "execution_count": 24,
   "metadata": {},
   "outputs": [
    {
     "data": {
      "text/html": [
       "<div>\n",
       "<style>\n",
       "    .dataframe thead tr:only-child th {\n",
       "        text-align: right;\n",
       "    }\n",
       "\n",
       "    .dataframe thead th {\n",
       "        text-align: left;\n",
       "    }\n",
       "\n",
       "    .dataframe tbody tr th {\n",
       "        vertical-align: top;\n",
       "    }\n",
       "</style>\n",
       "<table border=\"1\" class=\"dataframe\">\n",
       "  <thead>\n",
       "    <tr style=\"text-align: right;\">\n",
       "      <th></th>\n",
       "      <th>close</th>\n",
       "      <th>volume</th>\n",
       "      <th>open</th>\n",
       "      <th>high</th>\n",
       "      <th>low</th>\n",
       "    </tr>\n",
       "    <tr>\n",
       "      <th>date</th>\n",
       "      <th></th>\n",
       "      <th></th>\n",
       "      <th></th>\n",
       "      <th></th>\n",
       "      <th></th>\n",
       "    </tr>\n",
       "  </thead>\n",
       "  <tbody>\n",
       "    <tr>\n",
       "      <th>2019-08-30</th>\n",
       "      <td>208.74</td>\n",
       "      <td>21162560.0000</td>\n",
       "      <td>210.16</td>\n",
       "      <td>210.4500</td>\n",
       "      <td>207.2000</td>\n",
       "    </tr>\n",
       "    <tr>\n",
       "      <th>2019-08-29</th>\n",
       "      <td>209.01</td>\n",
       "      <td>21007650.0000</td>\n",
       "      <td>208.50</td>\n",
       "      <td>209.3200</td>\n",
       "      <td>206.6550</td>\n",
       "    </tr>\n",
       "    <tr>\n",
       "      <th>2019-08-28</th>\n",
       "      <td>205.53</td>\n",
       "      <td>15957630.0000</td>\n",
       "      <td>204.10</td>\n",
       "      <td>205.7200</td>\n",
       "      <td>203.3200</td>\n",
       "    </tr>\n",
       "    <tr>\n",
       "      <th>2019-08-27</th>\n",
       "      <td>204.16</td>\n",
       "      <td>25897340.0000</td>\n",
       "      <td>207.86</td>\n",
       "      <td>208.5500</td>\n",
       "      <td>203.5300</td>\n",
       "    </tr>\n",
       "    <tr>\n",
       "      <th>2019-08-26</th>\n",
       "      <td>206.49</td>\n",
       "      <td>26066130.0000</td>\n",
       "      <td>205.86</td>\n",
       "      <td>207.1900</td>\n",
       "      <td>205.0573</td>\n",
       "    </tr>\n",
       "    <tr>\n",
       "      <th>2019-08-23</th>\n",
       "      <td>202.64</td>\n",
       "      <td>46882840.0000</td>\n",
       "      <td>209.43</td>\n",
       "      <td>212.0510</td>\n",
       "      <td>201.0000</td>\n",
       "    </tr>\n",
       "    <tr>\n",
       "      <th>2019-08-22</th>\n",
       "      <td>212.46</td>\n",
       "      <td>22267820.0000</td>\n",
       "      <td>213.19</td>\n",
       "      <td>214.4350</td>\n",
       "      <td>210.7500</td>\n",
       "    </tr>\n",
       "    <tr>\n",
       "      <th>2019-08-21</th>\n",
       "      <td>212.64</td>\n",
       "      <td>21564750.0000</td>\n",
       "      <td>212.99</td>\n",
       "      <td>213.6500</td>\n",
       "      <td>211.6032</td>\n",
       "    </tr>\n",
       "    <tr>\n",
       "      <th>2019-08-20</th>\n",
       "      <td>210.36</td>\n",
       "      <td>26919530.0000</td>\n",
       "      <td>210.88</td>\n",
       "      <td>213.3500</td>\n",
       "      <td>210.3200</td>\n",
       "    </tr>\n",
       "    <tr>\n",
       "      <th>2019-08-19</th>\n",
       "      <td>210.35</td>\n",
       "      <td>24431920.0000</td>\n",
       "      <td>210.62</td>\n",
       "      <td>212.7307</td>\n",
       "      <td>210.0250</td>\n",
       "    </tr>\n",
       "    <tr>\n",
       "      <th>2019-08-16</th>\n",
       "      <td>206.50</td>\n",
       "      <td>28813620.0000</td>\n",
       "      <td>204.28</td>\n",
       "      <td>207.1600</td>\n",
       "      <td>203.8400</td>\n",
       "    </tr>\n",
       "    <tr>\n",
       "      <th>2019-08-15</th>\n",
       "      <td>201.74</td>\n",
       "      <td>27883360.0000</td>\n",
       "      <td>203.46</td>\n",
       "      <td>205.1400</td>\n",
       "      <td>199.6700</td>\n",
       "    </tr>\n",
       "    <tr>\n",
       "      <th>2019-08-14</th>\n",
       "      <td>202.75</td>\n",
       "      <td>36547440.0000</td>\n",
       "      <td>203.16</td>\n",
       "      <td>206.4400</td>\n",
       "      <td>202.5869</td>\n",
       "    </tr>\n",
       "    <tr>\n",
       "      <th>2019-08-13</th>\n",
       "      <td>208.97</td>\n",
       "      <td>47539790.0000</td>\n",
       "      <td>201.02</td>\n",
       "      <td>212.1400</td>\n",
       "      <td>200.8300</td>\n",
       "    </tr>\n",
       "    <tr>\n",
       "      <th>2019-08-12</th>\n",
       "      <td>200.48</td>\n",
       "      <td>22481890.0000</td>\n",
       "      <td>199.62</td>\n",
       "      <td>202.0516</td>\n",
       "      <td>199.1500</td>\n",
       "    </tr>\n",
       "    <tr>\n",
       "      <th>2019-08-09</th>\n",
       "      <td>200.99</td>\n",
       "      <td>24619750.0000</td>\n",
       "      <td>201.30</td>\n",
       "      <td>202.7600</td>\n",
       "      <td>199.2900</td>\n",
       "    </tr>\n",
       "    <tr>\n",
       "      <th>2019-08-08</th>\n",
       "      <td>203.43</td>\n",
       "      <td>27009520.0000</td>\n",
       "      <td>200.20</td>\n",
       "      <td>203.5300</td>\n",
       "      <td>199.3900</td>\n",
       "    </tr>\n",
       "    <tr>\n",
       "      <th>2019-08-07</th>\n",
       "      <td>199.04</td>\n",
       "      <td>33364400.0000</td>\n",
       "      <td>195.41</td>\n",
       "      <td>199.5600</td>\n",
       "      <td>193.8200</td>\n",
       "    </tr>\n",
       "    <tr>\n",
       "      <th>2019-08-06</th>\n",
       "      <td>197.00</td>\n",
       "      <td>35824790.0000</td>\n",
       "      <td>196.31</td>\n",
       "      <td>198.0670</td>\n",
       "      <td>194.0400</td>\n",
       "    </tr>\n",
       "    <tr>\n",
       "      <th>2019-08-05</th>\n",
       "      <td>193.34</td>\n",
       "      <td>52392970.0000</td>\n",
       "      <td>197.99</td>\n",
       "      <td>198.6490</td>\n",
       "      <td>192.5800</td>\n",
       "    </tr>\n",
       "    <tr>\n",
       "      <th>2019-08-02</th>\n",
       "      <td>204.02</td>\n",
       "      <td>40862120.0000</td>\n",
       "      <td>205.53</td>\n",
       "      <td>206.4300</td>\n",
       "      <td>201.6300</td>\n",
       "    </tr>\n",
       "    <tr>\n",
       "      <th>2019-08-01</th>\n",
       "      <td>208.43</td>\n",
       "      <td>54017920.0000</td>\n",
       "      <td>213.90</td>\n",
       "      <td>218.0300</td>\n",
       "      <td>206.7435</td>\n",
       "    </tr>\n",
       "  </tbody>\n",
       "</table>\n",
       "</div>"
      ],
      "text/plain": [
       "             close         volume    open      high       low\n",
       "date                                                         \n",
       "2019-08-30  208.74  21162560.0000  210.16  210.4500  207.2000\n",
       "2019-08-29  209.01  21007650.0000  208.50  209.3200  206.6550\n",
       "2019-08-28  205.53  15957630.0000  204.10  205.7200  203.3200\n",
       "2019-08-27  204.16  25897340.0000  207.86  208.5500  203.5300\n",
       "2019-08-26  206.49  26066130.0000  205.86  207.1900  205.0573\n",
       "2019-08-23  202.64  46882840.0000  209.43  212.0510  201.0000\n",
       "2019-08-22  212.46  22267820.0000  213.19  214.4350  210.7500\n",
       "2019-08-21  212.64  21564750.0000  212.99  213.6500  211.6032\n",
       "2019-08-20  210.36  26919530.0000  210.88  213.3500  210.3200\n",
       "2019-08-19  210.35  24431920.0000  210.62  212.7307  210.0250\n",
       "2019-08-16  206.50  28813620.0000  204.28  207.1600  203.8400\n",
       "2019-08-15  201.74  27883360.0000  203.46  205.1400  199.6700\n",
       "2019-08-14  202.75  36547440.0000  203.16  206.4400  202.5869\n",
       "2019-08-13  208.97  47539790.0000  201.02  212.1400  200.8300\n",
       "2019-08-12  200.48  22481890.0000  199.62  202.0516  199.1500\n",
       "2019-08-09  200.99  24619750.0000  201.30  202.7600  199.2900\n",
       "2019-08-08  203.43  27009520.0000  200.20  203.5300  199.3900\n",
       "2019-08-07  199.04  33364400.0000  195.41  199.5600  193.8200\n",
       "2019-08-06  197.00  35824790.0000  196.31  198.0670  194.0400\n",
       "2019-08-05  193.34  52392970.0000  197.99  198.6490  192.5800\n",
       "2019-08-02  204.02  40862120.0000  205.53  206.4300  201.6300\n",
       "2019-08-01  208.43  54017920.0000  213.90  218.0300  206.7435"
      ]
     },
     "execution_count": 24,
     "metadata": {},
     "output_type": "execute_result"
    }
   ],
   "source": [
    "df[\"2019-08\"] "
   ]
  },
  {
   "cell_type": "code",
   "execution_count": 25,
   "metadata": {},
   "outputs": [
    {
     "data": {
      "text/plain": [
       "204.95772727272725"
      ]
     },
     "execution_count": 25,
     "metadata": {},
     "output_type": "execute_result"
    }
   ],
   "source": [
    "df[\"2019-08\"].close.mean()"
   ]
  },
  {
   "cell_type": "code",
   "execution_count": 27,
   "metadata": {},
   "outputs": [
    {
     "data": {
      "text/html": [
       "<div>\n",
       "<style>\n",
       "    .dataframe thead tr:only-child th {\n",
       "        text-align: right;\n",
       "    }\n",
       "\n",
       "    .dataframe thead th {\n",
       "        text-align: left;\n",
       "    }\n",
       "\n",
       "    .dataframe tbody tr th {\n",
       "        vertical-align: top;\n",
       "    }\n",
       "</style>\n",
       "<table border=\"1\" class=\"dataframe\">\n",
       "  <thead>\n",
       "    <tr style=\"text-align: right;\">\n",
       "      <th></th>\n",
       "      <th>close</th>\n",
       "      <th>volume</th>\n",
       "      <th>open</th>\n",
       "      <th>high</th>\n",
       "      <th>low</th>\n",
       "    </tr>\n",
       "    <tr>\n",
       "      <th>date</th>\n",
       "      <th></th>\n",
       "      <th></th>\n",
       "      <th></th>\n",
       "      <th></th>\n",
       "      <th></th>\n",
       "    </tr>\n",
       "  </thead>\n",
       "  <tbody>\n",
       "    <tr>\n",
       "      <th>2019-08-08</th>\n",
       "      <td>203.43</td>\n",
       "      <td>27009520.0000</td>\n",
       "      <td>200.20</td>\n",
       "      <td>203.530</td>\n",
       "      <td>199.3900</td>\n",
       "    </tr>\n",
       "    <tr>\n",
       "      <th>2019-08-07</th>\n",
       "      <td>199.04</td>\n",
       "      <td>33364400.0000</td>\n",
       "      <td>195.41</td>\n",
       "      <td>199.560</td>\n",
       "      <td>193.8200</td>\n",
       "    </tr>\n",
       "    <tr>\n",
       "      <th>2019-08-06</th>\n",
       "      <td>197.00</td>\n",
       "      <td>35824790.0000</td>\n",
       "      <td>196.31</td>\n",
       "      <td>198.067</td>\n",
       "      <td>194.0400</td>\n",
       "    </tr>\n",
       "    <tr>\n",
       "      <th>2019-08-05</th>\n",
       "      <td>193.34</td>\n",
       "      <td>52392970.0000</td>\n",
       "      <td>197.99</td>\n",
       "      <td>198.649</td>\n",
       "      <td>192.5800</td>\n",
       "    </tr>\n",
       "    <tr>\n",
       "      <th>2019-08-02</th>\n",
       "      <td>204.02</td>\n",
       "      <td>40862120.0000</td>\n",
       "      <td>205.53</td>\n",
       "      <td>206.430</td>\n",
       "      <td>201.6300</td>\n",
       "    </tr>\n",
       "    <tr>\n",
       "      <th>2019-08-01</th>\n",
       "      <td>208.43</td>\n",
       "      <td>54017920.0000</td>\n",
       "      <td>213.90</td>\n",
       "      <td>218.030</td>\n",
       "      <td>206.7435</td>\n",
       "    </tr>\n",
       "  </tbody>\n",
       "</table>\n",
       "</div>"
      ],
      "text/plain": [
       "             close         volume    open     high       low\n",
       "date                                                        \n",
       "2019-08-08  203.43  27009520.0000  200.20  203.530  199.3900\n",
       "2019-08-07  199.04  33364400.0000  195.41  199.560  193.8200\n",
       "2019-08-06  197.00  35824790.0000  196.31  198.067  194.0400\n",
       "2019-08-05  193.34  52392970.0000  197.99  198.649  192.5800\n",
       "2019-08-02  204.02  40862120.0000  205.53  206.430  201.6300\n",
       "2019-08-01  208.43  54017920.0000  213.90  218.030  206.7435"
      ]
     },
     "execution_count": 27,
     "metadata": {},
     "output_type": "execute_result"
    }
   ],
   "source": [
    "df[\"2019-08-08\":\"2019-08-01\"] "
   ]
  },
  {
   "cell_type": "code",
   "execution_count": 28,
   "metadata": {},
   "outputs": [
    {
     "data": {
      "text/plain": [
       "date\n",
       "2018-08-31    226.330000\n",
       "2018-09-30    222.073684\n",
       "2018-10-31    220.845652\n",
       "2018-11-30    191.235714\n",
       "2018-12-31    164.266316\n",
       "2019-01-31    154.166190\n",
       "2019-02-28    171.727895\n",
       "2019-03-31    183.293810\n",
       "2019-04-30    200.516190\n",
       "2019-05-31    191.273636\n",
       "2019-06-30    192.969000\n",
       "2019-07-31    205.216364\n",
       "2019-08-31    204.957727\n",
       "2019-09-30    204.870000\n",
       "Freq: M, Name: close, dtype: float64"
      ]
     },
     "execution_count": 28,
     "metadata": {},
     "output_type": "execute_result"
    }
   ],
   "source": [
    "df.close.resample('M').mean() # M -> Monthly sampling. Sampling on Monthly basis"
   ]
  },
  {
   "cell_type": "code",
   "execution_count": 29,
   "metadata": {},
   "outputs": [
    {
     "data": {
      "text/plain": [
       "<matplotlib.axes._subplots.AxesSubplot at 0x1bef312d550>"
      ]
     },
     "execution_count": 29,
     "metadata": {},
     "output_type": "execute_result"
    },
    {
     "data": {
      "image/png": "[encoded data removed]",
      "text/plain": [
       "<Figure size 432x288 with 1 Axes>"
      ]
     },
     "metadata": {},
     "output_type": "display_data"
    }
   ],
   "source": [
    "%matplotlib inline\n",
    "df.close.resample('M').mean().plot() # Monthly"
   ]
  },
  {
   "cell_type": "code",
   "execution_count": 30,
   "metadata": {},
   "outputs": [
    {
     "data": {
      "text/plain": [
       "<matplotlib.axes._subplots.AxesSubplot at 0x1bef5220c50>"
      ]
     },
     "execution_count": 30,
     "metadata": {},
     "output_type": "execute_result"
    },
    {
     "data": {
      "image/png": "[encoded data removed]",
      "text/plain": [
       "<Figure size 432x288 with 1 Axes>"
      ]
     },
     "metadata": {},
     "output_type": "display_data"
    }
   ],
   "source": [
    "df.close.resample('W').mean().plot() # Weekly"
   ]
  },
  {
   "cell_type": "code",
   "execution_count": 31,
   "metadata": {},
   "outputs": [
    {
     "data": {
      "text/plain": [
       "<matplotlib.axes._subplots.AxesSubplot at 0x1bef62f8550>"
      ]
     },
     "execution_count": 31,
     "metadata": {},
     "output_type": "execute_result"
    },
    {
     "data": {
      "image/png": "[encoded data removed]",
      "text/plain": [
       "<Figure size 432x288 with 1 Axes>"
      ]
     },
     "metadata": {},
     "output_type": "display_data"
    }
   ],
   "source": [
    "df.close.resample('Q').mean().plot() # Queartly"
   ]
  },
  {
   "cell_type": "code",
   "execution_count": 33,
   "metadata": {},
   "outputs": [
    {
     "data": {
      "text/plain": [
       "<matplotlib.axes._subplots.AxesSubplot at 0x1bef62e6ef0>"
      ]
     },
     "execution_count": 33,
     "metadata": {},
     "output_type": "execute_result"
    },
    {
     "data": {
      "image/png": "[encoded data removed]",
      "text/plain": [
       "<Figure size 432x288 with 1 Axes>"
      ]
     },
     "metadata": {},
     "output_type": "display_data"
    }
   ],
   "source": [
    "df.close.resample('Q').mean().plot(kind=\"bar\")"
   ]
  },
  {
   "cell_type": "code",
   "execution_count": 35,
   "metadata": {},
   "outputs": [
    {
     "data": {
      "text/plain": [
       "<matplotlib.axes._subplots.AxesSubplot at 0x1bef5238cf8>"
      ]
     },
     "execution_count": 35,
     "metadata": {},
     "output_type": "execute_result"
    },
    {
     "data": {
      "image/png": "[encoded data removed]",
      "text/plain": [
       "<Figure size 432x288 with 1 Axes>"
      ]
     },
     "metadata": {},
     "output_type": "display_data"
    }
   ],
   "source": [
    "df.close.plot() # Daily"
   ]
  }
 ],
 "metadata": {
  "kernelspec": {
   "display_name": "Python 3",
   "language": "python",
   "name": "python3"
  },
  "language_info": {
   "codemirror_mode": {
    "name": "ipython",
    "version": 3
   },
   "file_extension": ".py",
   "mimetype": "text/x-python",
   "name": "python",
   "nbconvert_exporter": "python",
   "pygments_lexer": "ipython3",
   "version": "3.7.3"
  }
 },
 "nbformat": 4,
 "nbformat_minor": 2
}
